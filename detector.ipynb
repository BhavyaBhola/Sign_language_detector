{
 "cells": [
  {
   "cell_type": "code",
   "execution_count": 1,
   "metadata": {},
   "outputs": [],
   "source": [
    "import numpy as np\n",
    "import pandas as pd\n",
    "import tensorflow as tf\n",
    "import cv2 as cv\n",
    "import os\n",
    "from  tqdm import tqdm\n",
    "from keras.applications import InceptionV3"
   ]
  },
  {
   "cell_type": "code",
   "execution_count": 2,
   "metadata": {},
   "outputs": [],
   "source": [
    "base_dir = r'C:\\Users\\91976\\Desktop\\programming\\AI and Ml\\projects\\sign language detector'"
   ]
  },
  {
   "cell_type": "code",
   "execution_count": 3,
   "metadata": {},
   "outputs": [],
   "source": [
    "train_dir = fr'{base_dir}\\asl_dataset'"
   ]
  },
  {
   "cell_type": "code",
   "execution_count": 4,
   "metadata": {},
   "outputs": [],
   "source": [
    "zero = fr'{train_dir}\\0'\n",
    "one = fr\"{train_dir}\\1\"\n",
    "two = fr'{train_dir}\\2'\n",
    "three = fr'{train_dir}\\3'\n",
    "four = fr'{train_dir}\\4'\n",
    "five = fr'{train_dir}\\5'\n",
    "six = fr'{train_dir}\\6'\n",
    "seven = fr'{train_dir}\\7'\n",
    "eight = fr'{train_dir}\\8'\n",
    "nine = fr'{train_dir}\\9'\n",
    "\n",
    "a = fr'{train_dir}\\a'\n",
    "b = fr'{train_dir}\\b'\n",
    "c = fr'{train_dir}\\c'\n",
    "d = fr'{train_dir}\\d'\n",
    "e = fr'{train_dir}\\e'\n",
    "f = fr'{train_dir}\\f'\n",
    "g = fr'{train_dir}\\g'\n",
    "h = fr'{train_dir}\\h'\n",
    "i = fr'{train_dir}\\i'\n",
    "j = fr'{train_dir}\\j'\n",
    "k = fr'{train_dir}\\k'\n",
    "l = fr'{train_dir}\\l'\n",
    "m = fr'{train_dir}\\m'\n",
    "n = fr'{train_dir}\\n'\n",
    "o = fr'{train_dir}\\o'\n",
    "p = fr'{train_dir}\\p'\n",
    "q = fr'{train_dir}\\q'\n",
    "r = fr'{train_dir}\\r'\n",
    "s = fr'{train_dir}\\s'\n",
    "t = fr'{train_dir}\\t'\n",
    "u = fr'{train_dir}\\u'\n",
    "v = fr'{train_dir}\\v'\n",
    "w = fr'{train_dir}\\w'\n",
    "x = fr'{train_dir}\\x'\n",
    "y = fr'{train_dir}\\y'\n",
    "z = fr'{train_dir}\\z'\n"
   ]
  },
  {
   "cell_type": "code",
   "execution_count": 5,
   "metadata": {},
   "outputs": [
    {
     "name": "stderr",
     "output_type": "stream",
     "text": [
      "100%|██████████| 70/70 [00:00<00:00, 378.73it/s]\n",
      "100%|██████████| 70/70 [00:00<00:00, 426.62it/s]\n",
      "100%|██████████| 70/70 [00:00<00:00, 417.00it/s]\n",
      "100%|██████████| 70/70 [00:00<00:00, 414.08it/s]\n",
      "100%|██████████| 70/70 [00:00<00:00, 379.17it/s]\n",
      "100%|██████████| 70/70 [00:00<00:00, 401.04it/s]\n",
      "100%|██████████| 70/70 [00:00<00:00, 408.34it/s]\n",
      "100%|██████████| 70/70 [00:00<00:00, 434.99it/s]\n",
      "100%|██████████| 70/70 [00:00<00:00, 409.34it/s]\n",
      "100%|██████████| 70/70 [00:00<00:00, 393.97it/s]\n",
      "100%|██████████| 70/70 [00:00<00:00, 397.27it/s]\n",
      "100%|██████████| 70/70 [00:00<00:00, 402.81it/s]\n",
      "100%|██████████| 70/70 [00:00<00:00, 434.37it/s]\n",
      "100%|██████████| 70/70 [00:00<00:00, 379.31it/s]\n",
      "100%|██████████| 70/70 [00:00<00:00, 373.17it/s]\n",
      "100%|██████████| 70/70 [00:00<00:00, 388.89it/s]\n",
      "100%|██████████| 70/70 [00:00<00:00, 371.10it/s]\n",
      "100%|██████████| 70/70 [00:00<00:00, 425.52it/s]\n",
      "100%|██████████| 70/70 [00:00<00:00, 406.26it/s]\n",
      "100%|██████████| 70/70 [00:00<00:00, 367.90it/s]\n",
      "100%|██████████| 70/70 [00:00<00:00, 405.93it/s]\n",
      "100%|██████████| 70/70 [00:00<00:00, 402.72it/s]\n",
      "100%|██████████| 70/70 [00:00<00:00, 381.50it/s]\n",
      "100%|██████████| 70/70 [00:00<00:00, 378.81it/s]\n",
      "100%|██████████| 70/70 [00:00<00:00, 385.44it/s]\n",
      "100%|██████████| 70/70 [00:00<00:00, 437.97it/s]\n",
      "100%|██████████| 70/70 [00:00<00:00, 434.85it/s]\n",
      "100%|██████████| 70/70 [00:00<00:00, 405.81it/s]\n",
      "100%|██████████| 70/70 [00:00<00:00, 394.68it/s]\n",
      "100%|██████████| 65/65 [00:00<00:00, 385.44it/s]\n",
      "100%|██████████| 70/70 [00:00<00:00, 397.44it/s]\n",
      "100%|██████████| 70/70 [00:00<00:00, 385.50it/s]\n",
      "100%|██████████| 70/70 [00:00<00:00, 387.92it/s]\n",
      "100%|██████████| 70/70 [00:00<00:00, 400.04it/s]\n",
      "100%|██████████| 70/70 [00:00<00:00, 408.26it/s]\n",
      "100%|██████████| 70/70 [00:00<00:00, 436.92it/s]\n"
     ]
    }
   ],
   "source": [
    "labels = ['0','1','2','3','4','5','6','7','8','9','a','b','c','d','e','f','g','h','i','j','k','l','m','n','o','p','q','r','s','t','u','v','w','x','y','z']\n",
    "\n",
    "\n",
    "train = []\n",
    "y_train=[]\n",
    "\n",
    "img_size = 224\n",
    "for i in labels:\n",
    "    folderpath = f\"{train_dir}\\{i}\"\n",
    "    for j in tqdm(os.listdir(folderpath)):\n",
    "        img = cv.imread(os.path.join(folderpath,j))\n",
    "        img = cv.resize(img,(img_size,img_size))\n",
    "        train.append(img)\n",
    "        y_train.append(i)\n",
    "\n",
    "\n",
    "train = np.array(train)\n",
    "y_train = np.array(y_train)        "
   ]
  },
  {
   "cell_type": "code",
   "execution_count": 6,
   "metadata": {},
   "outputs": [
    {
     "name": "stdout",
     "output_type": "stream",
     "text": [
      "(252, 224, 224, 3)\n",
      "(2263, 224, 224, 3)\n",
      "(2263, 36)\n",
      "(252, 36)\n"
     ]
    }
   ],
   "source": [
    "from sklearn.model_selection import train_test_split\n",
    "\n",
    "\n",
    "X_train,X_test,y_train,y_test = train_test_split(train,y_train, test_size=0.1,random_state=101)\n",
    "\n",
    "\n",
    "y_train_new = []\n",
    "for i in y_train:\n",
    "    y_train_new.append(labels.index(i))\n",
    "y_train = y_train_new\n",
    "y_train = tf.keras.utils.to_categorical(y_train)\n",
    "\n",
    "\n",
    "y_test_new = []\n",
    "for i in y_test:\n",
    "    y_test_new.append(labels.index(i))\n",
    "y_test = y_test_new\n",
    "y_test = tf.keras.utils.to_categorical(y_test)\n",
    "\n",
    "\n",
    "\n",
    "print(X_test.shape)\n",
    "print(X_train.shape)\n",
    "print(y_train.shape)\n",
    "print(y_test.shape)\n"
   ]
  },
  {
   "cell_type": "code",
   "execution_count": 7,
   "metadata": {},
   "outputs": [],
   "source": [
    "pre_model = InceptionV3(\n",
    "    input_shape=(224,224,3),\n",
    "    include_top=False,\n",
    "    weights='imagenet'\n",
    ")\n",
    "\n",
    "for layers in pre_model.layers:\n",
    "    layers.trainable = False\n",
    "\n",
    "last_layer = pre_model.get_layer('mixed7')\n",
    "last_output = last_layer.output    "
   ]
  },
  {
   "cell_type": "code",
   "execution_count": 8,
   "metadata": {},
   "outputs": [],
   "source": [
    "from keras.optimizers import RMSprop,Adam\n",
    "from keras import Model\n",
    "\n",
    "x = tf.keras.layers.Flatten()(last_output)\n",
    "x = tf.keras.layers.Dense(64,activation='relu')(x)\n",
    "x = tf.keras.layers.BatchNormalization()(x)\n",
    "x = tf.keras.layers.Dense(64,activation='relu')(x)\n",
    "x = tf.keras.layers.BatchNormalization()(x)\n",
    "output = tf.keras.layers.Dense(len(labels),activation='softmax')(x)\n",
    "\n",
    "model = Model(pre_model.input,output)\n",
    "\n",
    "model.compile(optimizer=Adam(learning_rate=0.001), loss = 'categorical_crossentropy',metrics = ['accuracy'])\n"
   ]
  },
  {
   "cell_type": "code",
   "execution_count": 9,
   "metadata": {},
   "outputs": [],
   "source": [
    "class callbacks(tf.keras.callbacks.Callback):\n",
    "    def on_epoch_end(self,epochs,logs={}):\n",
    "        if(logs.get('val_accuracy')>0.98):\n",
    "            self.model.stop_training=True"
   ]
  },
  {
   "cell_type": "code",
   "execution_count": 10,
   "metadata": {},
   "outputs": [
    {
     "name": "stdout",
     "output_type": "stream",
     "text": [
      "Epoch 1/10\n",
      "71/71 [==============================] - 127s 2s/step - loss: 1.9511 - accuracy: 0.5294 - val_loss: 1.5650 - val_accuracy: 0.5647\n",
      "Epoch 2/10\n",
      "71/71 [==============================] - 116s 2s/step - loss: 0.6350 - accuracy: 0.8953 - val_loss: 0.5890 - val_accuracy: 0.9090\n",
      "Epoch 3/10\n",
      "71/71 [==============================] - 105s 1s/step - loss: 0.2919 - accuracy: 0.9421 - val_loss: 0.3135 - val_accuracy: 0.9483\n",
      "Epoch 4/10\n",
      "71/71 [==============================] - 107s 2s/step - loss: 0.1693 - accuracy: 0.9713 - val_loss: 0.1340 - val_accuracy: 0.9744\n",
      "Epoch 5/10\n",
      "71/71 [==============================] - 128s 2s/step - loss: 0.1239 - accuracy: 0.9739 - val_loss: 0.0944 - val_accuracy: 0.9766\n",
      "Epoch 6/10\n",
      "71/71 [==============================] - 112s 2s/step - loss: 0.0747 - accuracy: 0.9867 - val_loss: 0.0479 - val_accuracy: 0.9951\n"
     ]
    },
    {
     "data": {
      "text/plain": [
       "<keras.callbacks.History at 0x20b02642080>"
      ]
     },
     "execution_count": 10,
     "metadata": {},
     "output_type": "execute_result"
    }
   ],
   "source": [
    "from keras.preprocessing.image import ImageDataGenerator\n",
    "\n",
    "callback = callbacks()\n",
    "\n",
    "datagen = ImageDataGenerator(\n",
    "        rescale=(1./255),\n",
    "        shear_range=0.2,\n",
    "        zoom_range=0.2,\n",
    "        horizontal_flip=True\n",
    ")\n",
    "\n",
    "datagen_val = ImageDataGenerator(rescale=1./255)\n",
    "\n",
    "model.fit(\n",
    "        datagen.flow(X_train,y_train),\n",
    "        epochs=10,\n",
    "        validation_data=datagen_val.flow(X_train,y_train),\n",
    "        callbacks = [callback]\n",
    ")        \n"
   ]
  },
  {
   "cell_type": "code",
   "execution_count": 16,
   "metadata": {},
   "outputs": [],
   "source": [
    "#model.save('sign_detector.h5')"
   ]
  },
  {
   "cell_type": "code",
   "execution_count": 17,
   "metadata": {},
   "outputs": [
    {
     "name": "stderr",
     "output_type": "stream",
     "text": [
      "WARNING:absl:Found untraced functions such as _jit_compiled_convolution_op, _jit_compiled_convolution_op, _jit_compiled_convolution_op, _jit_compiled_convolution_op, _jit_compiled_convolution_op while saving (showing 5 of 70). These functions will not be directly callable after loading.\n"
     ]
    },
    {
     "name": "stdout",
     "output_type": "stream",
     "text": [
      "INFO:tensorflow:Assets written to: C:\\Users\\91976\\AppData\\Local\\Temp\\tmp6gozme0v\\assets\n"
     ]
    },
    {
     "name": "stderr",
     "output_type": "stream",
     "text": [
      "INFO:tensorflow:Assets written to: C:\\Users\\91976\\AppData\\Local\\Temp\\tmp6gozme0v\\assets\n"
     ]
    }
   ],
   "source": [
    "'''\n",
    "tf_model_file = \"sign_detector.tflite\"\n",
    "tf_lite_converter = tf.lite.TFLiteConverter.from_keras_model(model)\n",
    "tflite_model = tf_lite_converter.convert()\n",
    "\n",
    "with open(tf_model_file,'wb') as file:\n",
    "    file.write(tflite_model)\n",
    "'''    "
   ]
  },
  {
   "cell_type": "markdown",
   "metadata": {},
   "source": [
    "predicting"
   ]
  },
  {
   "cell_type": "code",
   "execution_count": 19,
   "metadata": {},
   "outputs": [],
   "source": [
    "t = []\n",
    "\n",
    "img = cv.imread(r\"C:\\Users\\91976\\Desktop\\programming\\AI and Ml\\projects\\sign language detector\\asl_dataset\\0\\hand1_0_bot_seg_3_cropped.jpeg\")\n",
    "\n",
    "img = cv.resize(img,(224,224))\n",
    "t.append(img)\n",
    "\n",
    "t = np.array(t)"
   ]
  },
  {
   "cell_type": "code",
   "execution_count": 20,
   "metadata": {},
   "outputs": [
    {
     "name": "stdout",
     "output_type": "stream",
     "text": [
      "1/1 [==============================] - 0s 133ms/step\n",
      "[[7.7936292e-01 3.4921325e-03 3.5518713e-04 5.0290762e-03 7.2953559e-04\n",
      "  1.4476723e-03 6.5077760e-04 1.4822347e-03 3.4016831e-04 7.9475454e-04\n",
      "  7.2298932e-04 1.5183931e-03 1.7350221e-02 5.4265250e-04 1.1246139e-02\n",
      "  8.7692705e-04 1.6936361e-04 1.2675305e-04 8.6672627e-04 1.4492188e-02\n",
      "  2.3773341e-03 1.0791142e-03 4.6204332e-02 3.9551803e-03 9.7411074e-02\n",
      "  2.8553771e-04 1.1285101e-03 7.8838132e-04 2.0455609e-03 3.2474363e-05\n",
      "  6.0581008e-04 2.6206821e-04 2.8217770e-04 8.1671117e-04 5.7785580e-04\n",
      "  5.5101194e-04]]\n"
     ]
    }
   ],
   "source": [
    "t = t / 255.0\n",
    "pred = model.predict(t)\n",
    "print(pred)\n"
   ]
  }
 ],
 "metadata": {
  "kernelspec": {
   "display_name": "Python 3.10.4 64-bit",
   "language": "python",
   "name": "python3"
  },
  "language_info": {
   "codemirror_mode": {
    "name": "ipython",
    "version": 3
   },
   "file_extension": ".py",
   "mimetype": "text/x-python",
   "name": "python",
   "nbconvert_exporter": "python",
   "pygments_lexer": "ipython3",
   "version": "3.10.4"
  },
  "orig_nbformat": 4,
  "vscode": {
   "interpreter": {
    "hash": "2ab03924b0a6784d01348d8b7d05bd4ac764873ded1b07aeb381424a5f34fd06"
   }
  }
 },
 "nbformat": 4,
 "nbformat_minor": 2
}
